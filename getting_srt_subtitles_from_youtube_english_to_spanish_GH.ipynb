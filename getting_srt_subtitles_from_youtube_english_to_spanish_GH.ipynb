{
 "cells": [
  {
   "cell_type": "markdown",
   "id": "ec594dd5",
   "metadata": {},
   "source": [
    "## Python code for getting Youtube Text from video and then transforms it into a .srt file ready to be used"
   ]
  },
  {
   "cell_type": "code",
   "execution_count": 1,
   "id": "45ebebdb",
   "metadata": {},
   "outputs": [],
   "source": [
    "# importing modules\n",
    "from youtube_transcript_api import YouTubeTranscriptApi\n",
    "import datetime\n",
    "#Specify the url of the Youtube video\n",
    "url = 'https://www.youtube.com/watch?v=BUzIdLf4O9c'\n",
    "#Getting the video code from the url\n",
    "video_code = url.split(\"=\",1)[1]\n",
    "#Specify the name of the srl file \n",
    "name = \"JNF_Australia.srl\""
   ]
  },
  {
   "cell_type": "code",
   "execution_count": 2,
   "id": "fdaedb72",
   "metadata": {},
   "outputs": [],
   "source": [
    "# retrieve the available transcripts\n",
    "transcript_list = YouTubeTranscriptApi.list_transcripts(video_code)\n",
    " \n",
    "# iterate over all available transcripts\n",
    "for transcript in transcript_list:\n",
    " \n",
    "    # translating the transcript will return another\n",
    "    # transcript object\n",
    "    srt_translated = transcript.translate('es').fetch()\n",
    "    #Print the list of available languages for translation \n",
    "    #print(transcript.translation_languages),\n",
    "# creating or overwriting a file with the info inside\n",
    "with open(name, \"w\") as f:\n",
    "   \n",
    "        # iterating through each element of list srt\n",
    "    for i in srt_translated:\n",
    "        # writing each element of srt on a new line\n",
    "        f.write(\"{}\\n\".format(i))"
   ]
  },
  {
   "cell_type": "code",
   "execution_count": 3,
   "id": "e3440f5f",
   "metadata": {},
   "outputs": [],
   "source": [
    "# creating or overwriting a file \"name\" with\n",
    "# the info inside the context manager\n",
    "with open(name, \"w\") as f:\n",
    "   \n",
    "    # Defining the counter\n",
    "    counter = 0\n",
    "    # iterating through each element of list srt and getting a particular element within the dictionary \n",
    "    for i in srt_translated:\n",
    "        counter+=1\n",
    "        start_time=str(datetime.timedelta(seconds=i['start'])).replace('.',',')\n",
    "        # Replacing the dot with a comma according to srl format\n",
    "        end_time=str(datetime.timedelta(seconds=i['start']+i['duration'])).replace('.',',')\n",
    "        # writing each element of srt on a new line\n",
    "        f.write(\"{}\\n{} --> {}\\n{}\\n\\n\".format(counter,start_time,end_time,i['text']))"
   ]
  },
  {
   "cell_type": "code",
   "execution_count": null,
   "id": "d01df535",
   "metadata": {},
   "outputs": [],
   "source": []
  }
 ],
 "metadata": {
  "kernelspec": {
   "display_name": "Python 3 (ipykernel)",
   "language": "python",
   "name": "python3"
  },
  "language_info": {
   "codemirror_mode": {
    "name": "ipython",
    "version": 3
   },
   "file_extension": ".py",
   "mimetype": "text/x-python",
   "name": "python",
   "nbconvert_exporter": "python",
   "pygments_lexer": "ipython3",
   "version": "3.9.7"
  }
 },
 "nbformat": 4,
 "nbformat_minor": 5
}
